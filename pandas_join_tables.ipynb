{
 "cells": [
  {
   "cell_type": "code",
   "execution_count": 4,
   "metadata": {},
   "outputs": [],
   "source": [
    "import pandas as pd\n",
    "import os"
   ]
  },
  {
   "cell_type": "code",
   "execution_count": 11,
   "metadata": {},
   "outputs": [],
   "source": [
    "# paths\n",
    "\n",
    "human_idmapping = 'C:/Users/piere/OneDrive - VIB/Documents/Courses/Functional_analysis_training/Fc-analysis_github_trainign/BulkRNAseq_idmapping_pathway.csv '\n",
    "human_expression = 'C:/Users/piere/OneDrive - VIB/Documents/Courses/Functional_analysis_training/Fc-analysis_github_trainign/data/human_exerciseGSEA.csv'\n",
    "JP_idmapping = 'C:/Users/piere/OneDrive - VIB/Documents/Courses/Functional_analysis_training/Fc-analysis_github_trainign/JP_transcriptid_uniprotname.csv'\n",
    "JP_drough_expressin = 'C:/Users/piere/OneDrive - VIB/Documents/Courses/Functional_analysis_training/Fc-analysis_github_trainign/data/plant_exerciseGSEA.csv'"
   ]
  },
  {
   "cell_type": "code",
   "execution_count": 7,
   "metadata": {},
   "outputs": [
    {
     "data": {
      "text/plain": [
       "['Fc-analysis_github_trainign', 'Functional_analysis']"
      ]
     },
     "execution_count": 7,
     "metadata": {},
     "output_type": "execute_result"
    }
   ],
   "source": [
    "# test path\n",
    "os.listdir('C:/Users/piere/OneDrive - VIB/Documents/Courses/Functional_analysis_training/')"
   ]
  },
  {
   "cell_type": "code",
   "execution_count": 15,
   "metadata": {},
   "outputs": [],
   "source": [
    "# create dataframe\n",
    "df_humanID = pd.read_csv(human_idmapping, sep=',')\n",
    "df_humanDE = pd.read_csv(human_expression, sep=';')\n",
    "\n",
    "df_JP_ID = pd.read_csv(JP_idmapping, sep=',')\n",
    "df_JP_DE = pd.read_csv(JP_drough_expressin, sep=';')"
   ]
  },
  {
   "cell_type": "code",
   "execution_count": 16,
   "metadata": {},
   "outputs": [
    {
     "name": "stdout",
     "output_type": "stream",
     "text": [
      "['ID', 'uniprotID', 'Pathway']\n",
      "['ID', 'baseMean', 'log2FoldChange', 'padj']\n",
      "['transcript_id', 'uniprot_name']\n",
      "['transcript_id', 'Raiz_Seca_logFC', 'logCPM', 'PValue', 'FDR']\n"
     ]
    }
   ],
   "source": [
    "# check columns names\n",
    "\n",
    "print(list(df_humanID.columns))\n",
    "print(list(df_humanDE.columns))\n",
    "\n",
    "print(list(df_JP_ID.columns))\n",
    "print(list(df_JP_DE.columns))"
   ]
  },
  {
   "cell_type": "code",
   "execution_count": 20,
   "metadata": {},
   "outputs": [
    {
     "name": "stdout",
     "output_type": "stream",
     "text": [
      "Index(['ID', 'baseMean', 'log2FoldChange', 'padj', 'uniprotID', 'Pathway'], dtype='object')\n",
      "Index(['transcript_id', 'Raiz_Seca_logFC', 'logCPM', 'PValue', 'FDR',\n",
      "       'uniprot_name'],\n",
      "      dtype='object')\n"
     ]
    }
   ],
   "source": [
    "df_human = pd.merge(df_humanDE,df_humanID, on='ID')\n",
    "print (df_human.columns)\n",
    "#df_human.head()\n",
    "\n",
    "df_JP = pd.merge(df_JP_DE,df_JP_ID, on='transcript_id')\n",
    "print (df_JP.columns)\n",
    "#df_JP.head()"
   ]
  },
  {
   "cell_type": "code",
   "execution_count": 21,
   "metadata": {},
   "outputs": [],
   "source": [
    "df_human.to_csv('human_GSEA.csv', sep=';')\n",
    "df_JP.to_csv('JP_GSEA.csv',sep=';')"
   ]
  }
 ],
 "metadata": {
  "kernelspec": {
   "display_name": "Python 3",
   "language": "python",
   "name": "python3"
  },
  "language_info": {
   "codemirror_mode": {
    "name": "ipython",
    "version": 3
   },
   "file_extension": ".py",
   "mimetype": "text/x-python",
   "name": "python",
   "nbconvert_exporter": "python",
   "pygments_lexer": "ipython3",
   "version": "3.11.1"
  }
 },
 "nbformat": 4,
 "nbformat_minor": 2
}
